{
 "cells": [
  {
   "cell_type": "markdown",
   "id": "2de8687c-2d7c-4d6f-b72c-94ce92b46d97",
   "metadata": {},
   "source": [
    "# Data Science Tools and Ecosystem"
   ]
  },
  {
   "cell_type": "markdown",
   "id": "c26ba3d1-6586-4df0-9275-c196bd189189",
   "metadata": {},
   "source": [
    "### In this notebook, Data Science Tools and Ecosystem are summarized."
   ]
  },
  {
   "cell_type": "markdown",
   "id": "253031cc-679a-41cd-be40-7424ed50256f",
   "metadata": {},
   "source": [
    "**Objectives:**\n",
    "\n",
    "- List popular languages for Data Science\n",
    "- List popular libraries for Data Science\n",
    "- List popular tools for Data Science\n",
    "- Evaluation of simple Arithmetic expression on Jupyter notebook for Data Science"
   ]
  },
  {
   "cell_type": "markdown",
   "id": "f90469b9-911a-4883-8583-9d81d3f66db3",
   "metadata": {},
   "source": [
    "#### Some of the popular languages that Data Scientists use are:\n",
    "1. R\n",
    "2. Python\n",
    "3. Scala"
   ]
  },
  {
   "cell_type": "markdown",
   "id": "e5879b2b-afe7-4197-83b9-1d4d8ba0632d",
   "metadata": {},
   "source": [
    "#### Some of the commonly used libraries used by Data Scientists include:\n",
    "1. Matplotlib\n",
    "2. Scikit-learn\n",
    "3. Pandas\n",
    "4. Tensor Flow"
   ]
  },
  {
   "cell_type": "markdown",
   "id": "3ce218c7-ecc5-4e85-8de0-32b886960c6c",
   "metadata": {
    "tags": []
   },
   "source": [
    "|Data Science Tools|\n",
    "|----------------------|\n",
    "| RStudio |\n",
    "| Jupter Notebook |\n",
    "| Apache Spark |"
   ]
  },
  {
   "cell_type": "markdown",
   "id": "01b24c13-e0b4-4b94-a1a3-c1a5284d40bb",
   "metadata": {},
   "source": [
    "### Below are a few examples of evaluating arithmetic expressions in Python.\n"
   ]
  },
  {
   "cell_type": "code",
   "execution_count": 5,
   "id": "01d43573-337a-4778-98a6-c2a4f4cfa533",
   "metadata": {
    "tags": []
   },
   "outputs": [
    {
     "data": {
      "text/plain": [
       "17"
      ]
     },
     "execution_count": 5,
     "metadata": {},
     "output_type": "execute_result"
    }
   ],
   "source": [
    "# This a simple arithmetic expression to mutiply then add integers\n",
    "\n",
    "(3*4)+5"
   ]
  },
  {
   "cell_type": "code",
   "execution_count": 8,
   "id": "eab4a559-5669-4200-b82b-9cf3782c547b",
   "metadata": {
    "tags": []
   },
   "outputs": [
    {
     "name": "stdout",
     "output_type": "stream",
     "text": [
      "3.3333333333333335\n"
     ]
    }
   ],
   "source": [
    "# This will convert 200 minutes to hours by diving by 60\n",
    "\n",
    "to_min = 200 / 60\n",
    "print(to_min)"
   ]
  },
  {
   "cell_type": "markdown",
   "id": "b6bfd0eb-c045-48aa-983b-71f1729f3450",
   "metadata": {},
   "source": [
    "## Author\n",
    "R Prathibha Devkar"
   ]
  }
 ],
 "metadata": {
  "kernelspec": {
   "display_name": "Python",
   "language": "python",
   "name": "conda-env-python-py"
  },
  "language_info": {
   "codemirror_mode": {
    "name": "ipython",
    "version": 3
   },
   "file_extension": ".py",
   "mimetype": "text/x-python",
   "name": "python",
   "nbconvert_exporter": "python",
   "pygments_lexer": "ipython3",
   "version": "3.7.12"
  }
 },
 "nbformat": 4,
 "nbformat_minor": 5
}
